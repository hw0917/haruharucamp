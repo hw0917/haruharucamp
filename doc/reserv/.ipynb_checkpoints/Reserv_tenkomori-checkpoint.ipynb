{
 "cells": [
  {
   "cell_type": "markdown",
   "id": "graphic-mileage",
   "metadata": {},
   "source": [
    "# てんこもりキャンプ場予約状況取得"
   ]
  },
  {
   "cell_type": "code",
   "execution_count": 1,
   "id": "surprised-disney",
   "metadata": {},
   "outputs": [],
   "source": [
    "import pandas as pd\n",
    "import datetime\n",
    "import re"
   ]
  },
  {
   "cell_type": "code",
   "execution_count": 2,
   "id": "bearing-problem",
   "metadata": {},
   "outputs": [],
   "source": [
    "_url = 'http://www.tenkomori.info/yoyakujyoukyoumeyasu.html'\n",
    "dfs = pd.read_html(_url)"
   ]
  },
  {
   "cell_type": "code",
   "execution_count": null,
   "id": "checked-roads",
   "metadata": {},
   "outputs": [],
   "source": []
  },
  {
   "cell_type": "code",
   "execution_count": 3,
   "id": "matched-sherman",
   "metadata": {},
   "outputs": [],
   "source": [
    "# 現在年取得\n",
    "dt_now = datetime.datetime.now()\n",
    "year_=str(dt_now.year) +\"年\""
   ]
  },
  {
   "cell_type": "code",
   "execution_count": 23,
   "id": "subtle-strength",
   "metadata": {},
   "outputs": [
    {
     "name": "stdout",
     "output_type": "stream",
     "text": [
      "<map object at 0x000002787792CD90>\n",
      "------\n",
      "<map object at 0x0000027876AA7EB0>\n",
      "------\n",
      "<map object at 0x000002786E18A580>\n",
      "------\n",
      "<map object at 0x0000027876AA7940>\n",
      "------\n",
      "<map object at 0x0000027877945FA0>\n",
      "------\n",
      "<map object at 0x0000027877945610>\n",
      "------\n",
      "<map object at 0x0000027877949100>\n",
      "------\n"
     ]
    }
   ],
   "source": [
    "# すべての月分ループ処理\n",
    "i=0\n",
    "for dfs_ in dfs[0:]:\n",
    "    i = i+1\n",
    "    \n",
    "    #　何月分の予約かを取得\n",
    "    str_ = dfs_.iat[0, 0]\n",
    "    month = str(re.findall('況(.*) ',str_))\n",
    "    month = month[2:-2] \n",
    "    y_m = str(year_)+month\n",
    "\n",
    "    # 不要な行を削除\n",
    "    dfs_=dfs_.drop(index=dfs_.index[[0]])\n",
    "    dfs_=dfs_.drop(index=dfs_.index[[0]])\n",
    "    dfs_=dfs_.drop(index=dfs_.index[[5]])\n",
    "    \n",
    "    # NaNをーに変換\n",
    "    dfs_=dfs_.fillna(\"－\")\n",
    "    \n",
    "    # 行Key2～6を別データフレームワークへ代入\n",
    "    dfs_1 = dfs_.iloc[[0,1,2,3,4]]\n",
    "    \n",
    "    # 行Key8～12を別データフレームワークへ代入\n",
    "    dfs_2 = dfs_.iloc[[5,6,7,8,9]]\n",
    "    \n",
    "    # dfs_1とdfs_2のインデックスを合わせる\n",
    "    dfs_1.index=['1', '2', '3', '4', '5']\n",
    "    dfs_2.index=['1', '2', '3', '4', '5']\n",
    "    \n",
    "    # dfs_2の施設名列を削除する\n",
    "    dfs_2=dfs_2.drop(0, axis=1)\n",
    "    \n",
    "    # dfs_1とdfs_2を横結合\n",
    "    dfs_k =pd.concat([dfs_1, dfs_2], axis=1)\n",
    "    \n",
    "    # columnsを整える\n",
    "    dfs_k.columns = [ y_m , 1, 2, 3, 4, 5, 6, 7, 8, 9, 10, 11, 12, 13, 14, 15, 16,17,18,19,20,21,22,23,24,25,26,27,28,29,30,31,32]\n",
    "                         \n",
    "    # 32行目を削除\n",
    "    dfs_k=dfs_k.drop(32, axis=1)\n",
    "    \n",
    "    # DBに書き込みする処理を追加\n",
    "    #print(dfs_)\n",
    "    #print(dfs_k)\n",
    "    #dfs_k.to_html('sampl' + str(i) + '.html')\n",
    "    for row in dfs_k.itertuples():\n",
    "        #print(type(index))\n",
    "        #print(index)\n",
    "        #print('~~~~~~')\n",
    "\n",
    "        #print(type(row))\n",
    "        print(row)\n",
    "        print('------')\n",
    "    "
   ]
  },
  {
   "cell_type": "code",
   "execution_count": 22,
   "id": "capital-syria",
   "metadata": {},
   "outputs": [
    {
     "name": "stdout",
     "output_type": "stream",
     "text": [
      "フリーサイト\n",
      "○\n",
      "○\n",
      "○\n",
      "○\n",
      "○\n",
      "○\n",
      "○\n",
      "○\n",
      "○\n",
      "○\n",
      "○\n",
      "○\n",
      "○\n",
      "○\n",
      "○\n",
      "○\n",
      "○\n",
      "○\n",
      "○\n",
      "○\n",
      "○\n",
      "○\n",
      "○\n",
      "○\n",
      "○\n",
      "○\n",
      "○\n",
      "○\n",
      "○\n",
      "○\n",
      "○\n"
     ]
    }
   ],
   "source": [
    "for i in range(1,33):\n",
    "    print(row[i])"
   ]
  },
  {
   "cell_type": "code",
   "execution_count": null,
   "id": "acute-parking",
   "metadata": {},
   "outputs": [],
   "source": []
  }
 ],
 "metadata": {
  "kernelspec": {
   "display_name": "Python 3",
   "language": "python",
   "name": "python3"
  },
  "language_info": {
   "codemirror_mode": {
    "name": "ipython",
    "version": 3
   },
   "file_extension": ".py",
   "mimetype": "text/x-python",
   "name": "python",
   "nbconvert_exporter": "python",
   "pygments_lexer": "ipython3",
   "version": "3.9.0"
  }
 },
 "nbformat": 4,
 "nbformat_minor": 5
}
