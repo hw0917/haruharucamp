{
 "cells": [
  {
   "cell_type": "markdown",
   "id": "friendly-republic",
   "metadata": {},
   "source": [
    "# グリーンパーク吉峰予約状況取得"
   ]
  },
  {
   "cell_type": "code",
   "execution_count": 8,
   "id": "subject-assistant",
   "metadata": {},
   "outputs": [],
   "source": [
    "import pandas as pd\n",
    "import re"
   ]
  },
  {
   "cell_type": "code",
   "execution_count": 2,
   "id": "liquid-saskatchewan",
   "metadata": {
    "scrolled": false
   },
   "outputs": [],
   "source": [
    "_url = 'https://www.yoshimine.or.jp/usr-cgi/yoyaku/user.cgi'\n",
    "dfs = pd.read_html(_url,header=0)"
   ]
  },
  {
   "cell_type": "code",
   "execution_count": 16,
   "id": "exempt-amazon",
   "metadata": {},
   "outputs": [
    {
     "name": "stdout",
     "output_type": "stream",
     "text": [
      "   3月  2021  1  2  3  4  5  6  7  8  9  ... 23 24 25 26 27 28 29 30 31  \\\n",
      "0     ハイツ宿泊  休  休  休  休  休  休  休  休  休  ...  ◯  ◯  ◯  △  満  △  ◯  ◯  ◯   \n",
      "1      コテージ  休  休  休  休  休  休  休  休  休  ...  休  休  休  休  休  休  休  休  休   \n",
      "2  オートキャンプ場  休  休  休  休  休  休  休  休  休  ...  休  休  休  休  休  休  休  休  休   \n",
      "3    バーベキュー  休  休  休  休  休  休  休  休  休  ...  休  休  休  休  休  休  休  休  休   \n",
      "4      宴会・昼  休  休  休  休  休  休  休  休  休  ...  ◯  ◯  ◯  ◯  ◯  満  ◯  ◯  ◯   \n",
      "5      宴会・夜  休  休  休  休  休  休  休  休  休  ...  ◯  ◯  ◯  ◯  満  ◯  ◯  ◯  ◯   \n",
      "6   リフレしんせと  ×  ×  ×  ×  ×  ×  ×  ×  ×  ...  ◯  ◯  ◯  ◯  ◯  ◯  ◯  ◯  ◯   \n",
      "\n",
      "  Unnamed: 32  \n",
      "0           －  \n",
      "1           －  \n",
      "2           －  \n",
      "3           －  \n",
      "4           －  \n",
      "5           －  \n",
      "6           －  \n",
      "\n",
      "[7 rows x 33 columns]\n",
      "   4月  2021  1  2  3  4  5  6  7  8  9  ... 23 24 25 26 27 28 29 30  \\\n",
      "0     ハイツ宿泊  ◯  ◯  △  ◯  ◯  ◯  ◯  △  ◯  ...  ◯  満  ◯  ◯  ◯  ◯  ◯  ◯   \n",
      "1      コテージ  ◯  ◯  ◯  ◯  ◯  ◯  ◯  ◯  ◯  ...  ◯  △  ◯  ◯  ◯  ◯  ◯  ◯   \n",
      "2  オートキャンプ場  ◯  ◯  △  ◯  ◯  ◯  ◯  ◯  ◯  ...  ◯  △  ◯  ◯  ◯  ◯  ◯  △   \n",
      "3    バーベキュー  ◯  ◯  ◯  ◯  ◯  ◯  ◯  ◯  ◯  ...  ◯  ◯  ◯  ◯  ◯  ◯  ◯  満   \n",
      "4      宴会・昼  ◯  ◯  ◯  ◯  ◯  ◯  ◯  ◯  ◯  ...  ◯  ◯  ◯  ◯  ◯  ◯  ◯  ◯   \n",
      "5      宴会・夜  ◯  ◯  ◯  ◯  ◯  ◯  ◯  ◯  ◯  ...  ◯  満  ◯  ◯  ◯  ◯  ◯  ◯   \n",
      "6   リフレしんせと  ◯  ◯  ◯  ◯  ◯  ◯  ◯  ◯  ◯  ...  ◯  ◯  ◯  ◯  ◯  ◯  ◯  ◯   \n",
      "\n",
      "  Unnamed: 31 Unnamed: 32  \n",
      "0           －           －  \n",
      "1           －           －  \n",
      "2           －           －  \n",
      "3           －           －  \n",
      "4           －           －  \n",
      "5           －           －  \n",
      "6           －           －  \n",
      "\n",
      "[7 rows x 33 columns]\n",
      "   5月  2021  1  2  3  4  5  6  7  8  9  ... 23 24 25 26 27 28 29 30 31  \\\n",
      "0     ハイツ宿泊  △  △  ◯  ◯  ◯  ×  ◯  △  ◯  ...  ◯  ◯  満  ◯  ◯  ◯  ◯  ◯  ◯   \n",
      "1      コテージ  △  満  満  △  △  ◯  ◯  ◯  ◯  ...  ◯  ◯  ◯  ◯  ◯  ◯  ◯  ◯  ◯   \n",
      "2  オートキャンプ場  満  満  満  △  △  ◯  ◯  △  ◯  ...  ◯  ◯  ◯  ◯  ◯  ◯  ◯  ◯  ◯   \n",
      "3    バーベキュー  △  △  △  ◯  ◯  ◯  ◯  ◯  ◯  ...  ◯  ◯  満  ◯  ◯  ◯  ◯  ◯  ◯   \n",
      "4      宴会・昼  ◯  ◯  ◯  ◯  ◯  ◯  ◯  ◯  ◯  ...  △  ◯  △  ◯  ◯  ◯  △  △  ◯   \n",
      "5      宴会・夜  ◯  △  ◯  ◯  ◯  ◯  ◯  ◯  ◯  ...  ◯  ◯  満  ◯  ◯  ◯  ◯  ◯  ◯   \n",
      "6   リフレしんせと  ◯  ◯  ◯  ◯  ◯  ◯  ◯  ◯  ◯  ...  ◯  ◯  ◯  ◯  ◯  ◯  ◯  ◯  ◯   \n",
      "\n",
      "  Unnamed: 32  \n",
      "0           －  \n",
      "1           －  \n",
      "2           －  \n",
      "3           －  \n",
      "4           －  \n",
      "5           －  \n",
      "6           －  \n",
      "\n",
      "[7 rows x 33 columns]\n"
     ]
    }
   ],
   "source": [
    "# すべての月分ループ処理\n",
    "i = 0\n",
    "for dfs_ in dfs[2:5]:\n",
    "    i = i+1\n",
    "    # 1行目のずれを修正\n",
    "    _dfs1=dfs_[0:1].shift(-1, axis=1)\n",
    "    #print(_dfs1)\n",
    "    #元の1行目を削除\n",
    "    dfs_=dfs_.drop(index=dfs_.index[[0]])\n",
    "    #print(dfs_)\n",
    "    # ずれを修正したデータを再挿入\n",
    "    dfs_=dfs_.append(_dfs1)\n",
    "    # 挿入後のデータを並び替え\n",
    "    dfs_=dfs_.sort_index()\n",
    "    # NaNの行を削除\n",
    "    dfs_=dfs_.fillna('－')\n",
    "    # DBに書き込みする処理を追加\n",
    "    print(dfs_)\n",
    "    #print(dfs_)\n",
    "    #dfs_.to_html('sampl' + str(i) + '.html')"
   ]
  },
  {
   "cell_type": "code",
   "execution_count": 14,
   "id": "statutory-cabinet",
   "metadata": {},
   "outputs": [
    {
     "name": "stdout",
     "output_type": "stream",
     "text": [
      "2021\n",
      "5\n"
     ]
    }
   ],
   "source": [
    "        # 年月を取得\n",
    "nengetu = dfs_.columns[0]\n",
    "nen = nengetu[-4:]\n",
    "getu = re.findall('(.*)月', nengetu)\n",
    "\n",
    "print(nen)\n",
    "print(getu[0])\n",
    "        "
   ]
  },
  {
   "cell_type": "code",
   "execution_count": null,
   "id": "electrical-warehouse",
   "metadata": {},
   "outputs": [],
   "source": [
    "        # campid set\n",
    "        set_campid = 18\n",
    "        # DBに書き込みする処理を追加\n",
    "        for row in dfs_k.itertuples():\n",
    "            insert(set_campid,row,nen,getu[0])"
   ]
  }
 ],
 "metadata": {
  "kernelspec": {
   "display_name": "Python 3",
   "language": "python",
   "name": "python3"
  },
  "language_info": {
   "codemirror_mode": {
    "name": "ipython",
    "version": 3
   },
   "file_extension": ".py",
   "mimetype": "text/x-python",
   "name": "python",
   "nbconvert_exporter": "python",
   "pygments_lexer": "ipython3",
   "version": "3.9.0"
  }
 },
 "nbformat": 4,
 "nbformat_minor": 5
}
