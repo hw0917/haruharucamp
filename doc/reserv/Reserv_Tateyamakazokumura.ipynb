{
 "cells": [
  {
   "cell_type": "code",
   "execution_count": 1,
   "id": "downtown-decision",
   "metadata": {},
   "outputs": [],
   "source": [
    "import pandas as pd\n",
    "import datetime\n",
    "import re"
   ]
  },
  {
   "cell_type": "code",
   "execution_count": 33,
   "id": "reverse-judge",
   "metadata": {},
   "outputs": [
    {
     "name": "stdout",
     "output_type": "stream",
     "text": [
      "2021/4\n",
      "2021年4月\n"
     ]
    }
   ],
   "source": [
    "# 現在年月取得\n",
    "dt_now = datetime.datetime.now()\n",
    "_year=str(dt_now.year)\n",
    "# 月はループしたときに考えてにとって来る必要あり！\n",
    "_month =str(dt_now.month + 1)\n",
    "\n",
    "ym = _year+'/'+_month\n",
    "ym_col = _year+'年'+_month +'月'\n",
    "print(ym) \n",
    "print(ym_col)"
   ]
  },
  {
   "cell_type": "code",
   "execution_count": 3,
   "id": "insured-christmas",
   "metadata": {},
   "outputs": [],
   "source": [
    "# 施設No\n",
    "# 1 = エコノミーキャンプ\n",
    "# 2 = オートキャンプ\n",
    "# 3 = 8人用ケビン\n",
    "# 4 = 4人用ケビン\n",
    "#　ループ回すときにi文で施設名"
   ]
  },
  {
   "cell_type": "code",
   "execution_count": 4,
   "id": "alternate-superintendent",
   "metadata": {},
   "outputs": [],
   "source": [
    "# 予約情報\n",
    "# 〇、△、×、－\n",
    "# これ以外を消す"
   ]
  },
  {
   "cell_type": "code",
   "execution_count": 31,
   "id": "opening-affect",
   "metadata": {},
   "outputs": [
    {
     "name": "stdout",
     "output_type": "stream",
     "text": [
      "     2021年3月  1  2  3  4  5  6  7  8  9  ... 26 27 28 29 30 31 32 33 34 35\n",
      "1  エコノミーキャンプ  －  －  －  －  -  -  -  -  -  ...  -  -  -  ◯  ◯  ◯  ◯  ◯  ◯  －\n",
      "\n",
      "[1 rows x 36 columns]\n",
      "   2021年3月  1  2  3  4  5  6  7  8  9  ... 26 27 28 29 30 31 32 33 34 35\n",
      "1  オートキャンプ  －  －  －  －  -  -  -  -  -  ...  -  -  ◯  ◯  ◯  ◯  ◯  ◯  ◯  －\n",
      "\n",
      "[1 rows x 36 columns]\n",
      "  2021年3月  1  2  3  4  5  6  7  8  9  ... 26 27 28 29 30 31 32 33 34 35\n",
      "1  8人用ケビン  －  －  －  －  ×  ×  ×  ×  ×  ...  ×  ×  ◯  ◯  ◯  ◯  ◯  ◯  ◯  －\n",
      "\n",
      "[1 rows x 36 columns]\n",
      "  2021年3月  1  2  3  4  5  6  7  8  9  ... 26 27 28 29 30 31 32 33 34 35\n",
      "1  4人用ケビン  －  －  －  －  -  -  -  -  -  ...  ×  ×  ◯  ◯  ◯  ◯  ◯  ◯  ◯  －\n",
      "\n",
      "[1 rows x 36 columns]\n"
     ]
    }
   ],
   "source": [
    "# 月数分(2か月分)ループ\n",
    "\n",
    "# 施設名分ループ\n",
    "for i in range(1,5):\n",
    "    _url = 'https://kazokumura.easy489.com/front/calendars/'+ym+'/'+str(i)\n",
    "    dfs = pd.read_html(_url)\n",
    "    # dfs[1]\n",
    "    # 行をすべて結合し、1行ですべての日程を表示\n",
    "    dfs_1 = dfs[1].iloc[[0]]\n",
    "    dfs_1.index=['1']\n",
    "    dfs_2 = dfs[1].iloc[[1]]\n",
    "    dfs_2.index=['1']\n",
    "    dfs_3 = dfs[1].iloc[[2]]\n",
    "    dfs_3.index=['1']\n",
    "    dfs_4 = dfs[1].iloc[[3]]\n",
    "    dfs_4.index=['1']\n",
    "    dfs_5 = dfs[1].iloc[[4]]\n",
    "    dfs_5.index=['1']\n",
    "    dfs_k =pd.concat([dfs_1,dfs_2,dfs_3,dfs_4,dfs_5], axis=1)\n",
    "\n",
    "    # NaNの値を-に変換\n",
    "    dfs_k=dfs_k.fillna('－')\n",
    "    _len = len(dfs_k.columns)\n",
    "    _len = _len + 1\n",
    "\n",
    "    # 列名を日付に変更\n",
    "    dfs_k.columns=list(range(1,_len))\n",
    "\n",
    "    dfs_k = dfs_k.replace(['1', '2', '3', '4', '5', '6', '7', '8', '9', '0'], '',regex=True)\n",
    "    # 列の一番左に施設名をセット\n",
    "    if i == 1:\n",
    "        dfs_k.insert(0, ym_col , 'エコノミーキャンプ')\n",
    "    elif i == 2:\n",
    "        dfs_k.insert(0, ym_col , 'オートキャンプ')\n",
    "    elif i == 3:\n",
    "        dfs_k.insert(0, ym_col , '8人用ケビン')\n",
    "    elif i == 4:\n",
    "        dfs_k.insert(0, ym_col , '4人用ケビン')\n",
    "\n",
    "\n",
    "    # 値の中の数字項目を削除\n",
    "    #{'A':[0,1,2],\n",
    "    #j = 0\n",
    "    #for j in range(1,35):\n",
    "    #    dfs_k = dfs_k.replace({j:['1', '2', '3', '4', '5', '6', '7', '8', '9', '0']}, '',regex=True)\n",
    "    \n",
    "    \n",
    "    #dfs_k = dfs_k.replace({2:['1', '2', '3', '4', '5', '6', '7', '8', '9', '0']}, '',regex=True)\n",
    "    #dfs_k = dfs_k.replace(['1', '2', '3', '4', '5', '6', '7', '8', '9', '0'], '',regex=True)\n",
    "    # DBにインサート\n",
    "    print(dfs_k)\n",
    "     "
   ]
  },
  {
   "cell_type": "code",
   "execution_count": null,
   "id": "experimental-simpson",
   "metadata": {},
   "outputs": [],
   "source": []
  },
  {
   "cell_type": "code",
   "execution_count": null,
   "id": "historical-pierce",
   "metadata": {},
   "outputs": [],
   "source": []
  },
  {
   "cell_type": "code",
   "execution_count": null,
   "id": "catholic-monaco",
   "metadata": {},
   "outputs": [],
   "source": []
  },
  {
   "cell_type": "code",
   "execution_count": null,
   "id": "increasing-platform",
   "metadata": {},
   "outputs": [],
   "source": []
  },
  {
   "cell_type": "code",
   "execution_count": 26,
   "id": "ordered-queens",
   "metadata": {},
   "outputs": [],
   "source": [
    "# 施設番号分ループ\n",
    "for name in range(1,2):\n",
    "    #print(name)\n",
    "    _url = 'https://kazokumura.easy489.com/front/calendars/'+ym+'/'+str(name)\n",
    "    dfs = pd.read_html(_url)\n",
    "    dfs[0]"
   ]
  },
  {
   "cell_type": "code",
   "execution_count": null,
   "id": "alive-mercy",
   "metadata": {},
   "outputs": [],
   "source": []
  },
  {
   "cell_type": "code",
   "execution_count": null,
   "id": "short-alarm",
   "metadata": {},
   "outputs": [],
   "source": []
  },
  {
   "cell_type": "code",
   "execution_count": null,
   "id": "spanish-toilet",
   "metadata": {},
   "outputs": [],
   "source": []
  },
  {
   "cell_type": "code",
   "execution_count": null,
   "id": "liquid-plenty",
   "metadata": {},
   "outputs": [],
   "source": []
  },
  {
   "cell_type": "code",
   "execution_count": null,
   "id": "detected-challenge",
   "metadata": {},
   "outputs": [],
   "source": []
  },
  {
   "cell_type": "code",
   "execution_count": null,
   "id": "collect-apparatus",
   "metadata": {},
   "outputs": [],
   "source": []
  },
  {
   "cell_type": "code",
   "execution_count": null,
   "id": "sunset-steal",
   "metadata": {},
   "outputs": [],
   "source": []
  },
  {
   "cell_type": "code",
   "execution_count": null,
   "id": "matched-strengthening",
   "metadata": {},
   "outputs": [],
   "source": []
  },
  {
   "cell_type": "code",
   "execution_count": null,
   "id": "imperial-senior",
   "metadata": {},
   "outputs": [],
   "source": []
  },
  {
   "cell_type": "code",
   "execution_count": null,
   "id": "otherwise-marijuana",
   "metadata": {},
   "outputs": [],
   "source": []
  },
  {
   "cell_type": "code",
   "execution_count": null,
   "id": "powerful-donor",
   "metadata": {},
   "outputs": [],
   "source": [
    "i = 1\n",
    "_url = 'https://kazokumura.easy489.com/front/calendars/'+ym+'/'+str(i)\n",
    "dfs = pd.read_html(_url)\n",
    "# dfs[1]\n",
    "# 行をすべて結合し、1行ですべての日程を表示\n",
    "dfs_1 = dfs[1].iloc[[0]]\n",
    "dfs_1.index=['1']\n",
    "dfs_2 = dfs[1].iloc[[1]]\n",
    "dfs_2.index=['1']\n",
    "dfs_3 = dfs[1].iloc[[2]]\n",
    "dfs_3.index=['1']\n",
    "dfs_4 = dfs[1].iloc[[3]]\n",
    "dfs_4.index=['1']\n",
    "dfs_5 = dfs[1].iloc[[4]]\n",
    "dfs_5.index=['1']\n",
    "dfs_k =pd.concat([dfs_1,dfs_2,dfs_3,dfs_4,dfs_5], axis=1)\n",
    "\n",
    "# NaNの行を削除\n",
    "dfs_k=dfs_k.dropna(how='all', axis=1)\n",
    "_len = len(dfs_k.columns)\n",
    "_len = _len + 1\n",
    "\n",
    "# 列名を日付に変更\n",
    "dfs_k.columns=list(range(1,_len))\n",
    "\n",
    "# 列の一番左に施設名をセット\n",
    "if i == 1:\n",
    "    dfs_k.insert(0, ym_col , 'エコノミーキャンプ')\n",
    "\n",
    "\n",
    "# 値の中の数字項目を削除\n",
    "dfs_k = dfs_k.replace(['1', '2', '3', '4', '5', '6', '7', '8', '9', '0'], '',regex=True)\n",
    "dfs_k"
   ]
  }
 ],
 "metadata": {
  "kernelspec": {
   "display_name": "Python 3",
   "language": "python",
   "name": "python3"
  },
  "language_info": {
   "codemirror_mode": {
    "name": "ipython",
    "version": 3
   },
   "file_extension": ".py",
   "mimetype": "text/x-python",
   "name": "python",
   "nbconvert_exporter": "python",
   "pygments_lexer": "ipython3",
   "version": "3.9.0"
  }
 },
 "nbformat": 4,
 "nbformat_minor": 5
}
