{
 "cells": [
  {
   "cell_type": "markdown",
   "id": "statutory-apollo",
   "metadata": {},
   "source": [
    "# 朝日ヒスイ海岸予約情報取得"
   ]
  },
  {
   "cell_type": "code",
   "execution_count": 3,
   "id": "surprised-disney",
   "metadata": {},
   "outputs": [],
   "source": [
    "import pandas as pd\n",
    "import datetime\n",
    "import re"
   ]
  },
  {
   "cell_type": "code",
   "execution_count": 5,
   "id": "bearing-problem",
   "metadata": {},
   "outputs": [
    {
     "ename": "HTTPError",
     "evalue": "HTTP Error 403: Forbidden",
     "output_type": "error",
     "traceback": [
      "\u001b[1;31m---------------------------------------------------------------------------\u001b[0m",
      "\u001b[1;31mHTTPError\u001b[0m                                 Traceback (most recent call last)",
      "\u001b[1;32m<ipython-input-5-ef7626aa634c>\u001b[0m in \u001b[0;36m<module>\u001b[1;34m\u001b[0m\n\u001b[0;32m      1\u001b[0m \u001b[0m_url\u001b[0m \u001b[1;33m=\u001b[0m \u001b[1;34m'https://camprsv.com/12645/rsv_list/'\u001b[0m\u001b[1;33m\u001b[0m\u001b[1;33m\u001b[0m\u001b[0m\n\u001b[1;32m----> 2\u001b[1;33m \u001b[0mdfs\u001b[0m \u001b[1;33m=\u001b[0m \u001b[0mpd\u001b[0m\u001b[1;33m.\u001b[0m\u001b[0mread_html\u001b[0m\u001b[1;33m(\u001b[0m\u001b[0m_url\u001b[0m\u001b[1;33m)\u001b[0m\u001b[1;33m\u001b[0m\u001b[1;33m\u001b[0m\u001b[0m\n\u001b[0m",
      "\u001b[1;32mc:\\users\\hakiya\\appdata\\local\\programs\\python\\python39\\lib\\site-packages\\pandas\\util\\_decorators.py\u001b[0m in \u001b[0;36mwrapper\u001b[1;34m(*args, **kwargs)\u001b[0m\n\u001b[0;32m    297\u001b[0m                 )\n\u001b[0;32m    298\u001b[0m                 \u001b[0mwarnings\u001b[0m\u001b[1;33m.\u001b[0m\u001b[0mwarn\u001b[0m\u001b[1;33m(\u001b[0m\u001b[0mmsg\u001b[0m\u001b[1;33m,\u001b[0m \u001b[0mFutureWarning\u001b[0m\u001b[1;33m,\u001b[0m \u001b[0mstacklevel\u001b[0m\u001b[1;33m=\u001b[0m\u001b[0mstacklevel\u001b[0m\u001b[1;33m)\u001b[0m\u001b[1;33m\u001b[0m\u001b[1;33m\u001b[0m\u001b[0m\n\u001b[1;32m--> 299\u001b[1;33m             \u001b[1;32mreturn\u001b[0m \u001b[0mfunc\u001b[0m\u001b[1;33m(\u001b[0m\u001b[1;33m*\u001b[0m\u001b[0margs\u001b[0m\u001b[1;33m,\u001b[0m \u001b[1;33m**\u001b[0m\u001b[0mkwargs\u001b[0m\u001b[1;33m)\u001b[0m\u001b[1;33m\u001b[0m\u001b[1;33m\u001b[0m\u001b[0m\n\u001b[0m\u001b[0;32m    300\u001b[0m \u001b[1;33m\u001b[0m\u001b[0m\n\u001b[0;32m    301\u001b[0m         \u001b[1;32mreturn\u001b[0m \u001b[0mwrapper\u001b[0m\u001b[1;33m\u001b[0m\u001b[1;33m\u001b[0m\u001b[0m\n",
      "\u001b[1;32mc:\\users\\hakiya\\appdata\\local\\programs\\python\\python39\\lib\\site-packages\\pandas\\io\\html.py\u001b[0m in \u001b[0;36mread_html\u001b[1;34m(io, match, flavor, header, index_col, skiprows, attrs, parse_dates, thousands, encoding, decimal, converters, na_values, keep_default_na, displayed_only)\u001b[0m\n\u001b[0;32m   1083\u001b[0m     \u001b[0mio\u001b[0m \u001b[1;33m=\u001b[0m \u001b[0mstringify_path\u001b[0m\u001b[1;33m(\u001b[0m\u001b[0mio\u001b[0m\u001b[1;33m)\u001b[0m\u001b[1;33m\u001b[0m\u001b[1;33m\u001b[0m\u001b[0m\n\u001b[0;32m   1084\u001b[0m \u001b[1;33m\u001b[0m\u001b[0m\n\u001b[1;32m-> 1085\u001b[1;33m     return _parse(\n\u001b[0m\u001b[0;32m   1086\u001b[0m         \u001b[0mflavor\u001b[0m\u001b[1;33m=\u001b[0m\u001b[0mflavor\u001b[0m\u001b[1;33m,\u001b[0m\u001b[1;33m\u001b[0m\u001b[1;33m\u001b[0m\u001b[0m\n\u001b[0;32m   1087\u001b[0m         \u001b[0mio\u001b[0m\u001b[1;33m=\u001b[0m\u001b[0mio\u001b[0m\u001b[1;33m,\u001b[0m\u001b[1;33m\u001b[0m\u001b[1;33m\u001b[0m\u001b[0m\n",
      "\u001b[1;32mc:\\users\\hakiya\\appdata\\local\\programs\\python\\python39\\lib\\site-packages\\pandas\\io\\html.py\u001b[0m in \u001b[0;36m_parse\u001b[1;34m(flavor, io, match, attrs, encoding, displayed_only, **kwargs)\u001b[0m\n\u001b[0;32m    891\u001b[0m \u001b[1;33m\u001b[0m\u001b[0m\n\u001b[0;32m    892\u001b[0m         \u001b[1;32mtry\u001b[0m\u001b[1;33m:\u001b[0m\u001b[1;33m\u001b[0m\u001b[1;33m\u001b[0m\u001b[0m\n\u001b[1;32m--> 893\u001b[1;33m             \u001b[0mtables\u001b[0m \u001b[1;33m=\u001b[0m \u001b[0mp\u001b[0m\u001b[1;33m.\u001b[0m\u001b[0mparse_tables\u001b[0m\u001b[1;33m(\u001b[0m\u001b[1;33m)\u001b[0m\u001b[1;33m\u001b[0m\u001b[1;33m\u001b[0m\u001b[0m\n\u001b[0m\u001b[0;32m    894\u001b[0m         \u001b[1;32mexcept\u001b[0m \u001b[0mValueError\u001b[0m \u001b[1;32mas\u001b[0m \u001b[0mcaught\u001b[0m\u001b[1;33m:\u001b[0m\u001b[1;33m\u001b[0m\u001b[1;33m\u001b[0m\u001b[0m\n\u001b[0;32m    895\u001b[0m             \u001b[1;31m# if `io` is an io-like object, check if it's seekable\u001b[0m\u001b[1;33m\u001b[0m\u001b[1;33m\u001b[0m\u001b[1;33m\u001b[0m\u001b[0m\n",
      "\u001b[1;32mc:\\users\\hakiya\\appdata\\local\\programs\\python\\python39\\lib\\site-packages\\pandas\\io\\html.py\u001b[0m in \u001b[0;36mparse_tables\u001b[1;34m(self)\u001b[0m\n\u001b[0;32m    211\u001b[0m         \u001b[0mlist\u001b[0m \u001b[0mof\u001b[0m \u001b[0mparsed\u001b[0m \u001b[1;33m(\u001b[0m\u001b[0mheader\u001b[0m\u001b[1;33m,\u001b[0m \u001b[0mbody\u001b[0m\u001b[1;33m,\u001b[0m \u001b[0mfooter\u001b[0m\u001b[1;33m)\u001b[0m \u001b[0mtuples\u001b[0m \u001b[1;32mfrom\u001b[0m \u001b[0mtables\u001b[0m\u001b[1;33m.\u001b[0m\u001b[1;33m\u001b[0m\u001b[1;33m\u001b[0m\u001b[0m\n\u001b[0;32m    212\u001b[0m         \"\"\"\n\u001b[1;32m--> 213\u001b[1;33m         \u001b[0mtables\u001b[0m \u001b[1;33m=\u001b[0m \u001b[0mself\u001b[0m\u001b[1;33m.\u001b[0m\u001b[0m_parse_tables\u001b[0m\u001b[1;33m(\u001b[0m\u001b[0mself\u001b[0m\u001b[1;33m.\u001b[0m\u001b[0m_build_doc\u001b[0m\u001b[1;33m(\u001b[0m\u001b[1;33m)\u001b[0m\u001b[1;33m,\u001b[0m \u001b[0mself\u001b[0m\u001b[1;33m.\u001b[0m\u001b[0mmatch\u001b[0m\u001b[1;33m,\u001b[0m \u001b[0mself\u001b[0m\u001b[1;33m.\u001b[0m\u001b[0mattrs\u001b[0m\u001b[1;33m)\u001b[0m\u001b[1;33m\u001b[0m\u001b[1;33m\u001b[0m\u001b[0m\n\u001b[0m\u001b[0;32m    214\u001b[0m         \u001b[1;32mreturn\u001b[0m \u001b[1;33m(\u001b[0m\u001b[0mself\u001b[0m\u001b[1;33m.\u001b[0m\u001b[0m_parse_thead_tbody_tfoot\u001b[0m\u001b[1;33m(\u001b[0m\u001b[0mtable\u001b[0m\u001b[1;33m)\u001b[0m \u001b[1;32mfor\u001b[0m \u001b[0mtable\u001b[0m \u001b[1;32min\u001b[0m \u001b[0mtables\u001b[0m\u001b[1;33m)\u001b[0m\u001b[1;33m\u001b[0m\u001b[1;33m\u001b[0m\u001b[0m\n\u001b[0;32m    215\u001b[0m \u001b[1;33m\u001b[0m\u001b[0m\n",
      "\u001b[1;32mc:\\users\\hakiya\\appdata\\local\\programs\\python\\python39\\lib\\site-packages\\pandas\\io\\html.py\u001b[0m in \u001b[0;36m_build_doc\u001b[1;34m(self)\u001b[0m\n\u001b[0;32m    730\u001b[0m                     \u001b[1;32mpass\u001b[0m\u001b[1;33m\u001b[0m\u001b[1;33m\u001b[0m\u001b[0m\n\u001b[0;32m    731\u001b[0m             \u001b[1;32melse\u001b[0m\u001b[1;33m:\u001b[0m\u001b[1;33m\u001b[0m\u001b[1;33m\u001b[0m\u001b[0m\n\u001b[1;32m--> 732\u001b[1;33m                 \u001b[1;32mraise\u001b[0m \u001b[0me\u001b[0m\u001b[1;33m\u001b[0m\u001b[1;33m\u001b[0m\u001b[0m\n\u001b[0m\u001b[0;32m    733\u001b[0m         \u001b[1;32melse\u001b[0m\u001b[1;33m:\u001b[0m\u001b[1;33m\u001b[0m\u001b[1;33m\u001b[0m\u001b[0m\n\u001b[0;32m    734\u001b[0m             \u001b[1;32mif\u001b[0m \u001b[1;32mnot\u001b[0m \u001b[0mhasattr\u001b[0m\u001b[1;33m(\u001b[0m\u001b[0mr\u001b[0m\u001b[1;33m,\u001b[0m \u001b[1;34m\"text_content\"\u001b[0m\u001b[1;33m)\u001b[0m\u001b[1;33m:\u001b[0m\u001b[1;33m\u001b[0m\u001b[1;33m\u001b[0m\u001b[0m\n",
      "\u001b[1;32mc:\\users\\hakiya\\appdata\\local\\programs\\python\\python39\\lib\\site-packages\\pandas\\io\\html.py\u001b[0m in \u001b[0;36m_build_doc\u001b[1;34m(self)\u001b[0m\n\u001b[0;32m    711\u001b[0m         \u001b[1;32mtry\u001b[0m\u001b[1;33m:\u001b[0m\u001b[1;33m\u001b[0m\u001b[1;33m\u001b[0m\u001b[0m\n\u001b[0;32m    712\u001b[0m             \u001b[1;32mif\u001b[0m \u001b[0mis_url\u001b[0m\u001b[1;33m(\u001b[0m\u001b[0mself\u001b[0m\u001b[1;33m.\u001b[0m\u001b[0mio\u001b[0m\u001b[1;33m)\u001b[0m\u001b[1;33m:\u001b[0m\u001b[1;33m\u001b[0m\u001b[1;33m\u001b[0m\u001b[0m\n\u001b[1;32m--> 713\u001b[1;33m                 \u001b[1;32mwith\u001b[0m \u001b[0murlopen\u001b[0m\u001b[1;33m(\u001b[0m\u001b[0mself\u001b[0m\u001b[1;33m.\u001b[0m\u001b[0mio\u001b[0m\u001b[1;33m)\u001b[0m \u001b[1;32mas\u001b[0m \u001b[0mf\u001b[0m\u001b[1;33m:\u001b[0m\u001b[1;33m\u001b[0m\u001b[1;33m\u001b[0m\u001b[0m\n\u001b[0m\u001b[0;32m    714\u001b[0m                     \u001b[0mr\u001b[0m \u001b[1;33m=\u001b[0m \u001b[0mparse\u001b[0m\u001b[1;33m(\u001b[0m\u001b[0mf\u001b[0m\u001b[1;33m,\u001b[0m \u001b[0mparser\u001b[0m\u001b[1;33m=\u001b[0m\u001b[0mparser\u001b[0m\u001b[1;33m)\u001b[0m\u001b[1;33m\u001b[0m\u001b[1;33m\u001b[0m\u001b[0m\n\u001b[0;32m    715\u001b[0m             \u001b[1;32melse\u001b[0m\u001b[1;33m:\u001b[0m\u001b[1;33m\u001b[0m\u001b[1;33m\u001b[0m\u001b[0m\n",
      "\u001b[1;32mc:\\users\\hakiya\\appdata\\local\\programs\\python\\python39\\lib\\site-packages\\pandas\\io\\common.py\u001b[0m in \u001b[0;36murlopen\u001b[1;34m(*args, **kwargs)\u001b[0m\n\u001b[0;32m    193\u001b[0m     \u001b[1;32mimport\u001b[0m \u001b[0murllib\u001b[0m\u001b[1;33m.\u001b[0m\u001b[0mrequest\u001b[0m\u001b[1;33m\u001b[0m\u001b[1;33m\u001b[0m\u001b[0m\n\u001b[0;32m    194\u001b[0m \u001b[1;33m\u001b[0m\u001b[0m\n\u001b[1;32m--> 195\u001b[1;33m     \u001b[1;32mreturn\u001b[0m \u001b[0murllib\u001b[0m\u001b[1;33m.\u001b[0m\u001b[0mrequest\u001b[0m\u001b[1;33m.\u001b[0m\u001b[0murlopen\u001b[0m\u001b[1;33m(\u001b[0m\u001b[1;33m*\u001b[0m\u001b[0margs\u001b[0m\u001b[1;33m,\u001b[0m \u001b[1;33m**\u001b[0m\u001b[0mkwargs\u001b[0m\u001b[1;33m)\u001b[0m\u001b[1;33m\u001b[0m\u001b[1;33m\u001b[0m\u001b[0m\n\u001b[0m\u001b[0;32m    196\u001b[0m \u001b[1;33m\u001b[0m\u001b[0m\n\u001b[0;32m    197\u001b[0m \u001b[1;33m\u001b[0m\u001b[0m\n",
      "\u001b[1;32mc:\\users\\hakiya\\appdata\\local\\programs\\python\\python39\\lib\\urllib\\request.py\u001b[0m in \u001b[0;36murlopen\u001b[1;34m(url, data, timeout, cafile, capath, cadefault, context)\u001b[0m\n\u001b[0;32m    212\u001b[0m     \u001b[1;32melse\u001b[0m\u001b[1;33m:\u001b[0m\u001b[1;33m\u001b[0m\u001b[1;33m\u001b[0m\u001b[0m\n\u001b[0;32m    213\u001b[0m         \u001b[0mopener\u001b[0m \u001b[1;33m=\u001b[0m \u001b[0m_opener\u001b[0m\u001b[1;33m\u001b[0m\u001b[1;33m\u001b[0m\u001b[0m\n\u001b[1;32m--> 214\u001b[1;33m     \u001b[1;32mreturn\u001b[0m \u001b[0mopener\u001b[0m\u001b[1;33m.\u001b[0m\u001b[0mopen\u001b[0m\u001b[1;33m(\u001b[0m\u001b[0murl\u001b[0m\u001b[1;33m,\u001b[0m \u001b[0mdata\u001b[0m\u001b[1;33m,\u001b[0m \u001b[0mtimeout\u001b[0m\u001b[1;33m)\u001b[0m\u001b[1;33m\u001b[0m\u001b[1;33m\u001b[0m\u001b[0m\n\u001b[0m\u001b[0;32m    215\u001b[0m \u001b[1;33m\u001b[0m\u001b[0m\n\u001b[0;32m    216\u001b[0m \u001b[1;32mdef\u001b[0m \u001b[0minstall_opener\u001b[0m\u001b[1;33m(\u001b[0m\u001b[0mopener\u001b[0m\u001b[1;33m)\u001b[0m\u001b[1;33m:\u001b[0m\u001b[1;33m\u001b[0m\u001b[1;33m\u001b[0m\u001b[0m\n",
      "\u001b[1;32mc:\\users\\hakiya\\appdata\\local\\programs\\python\\python39\\lib\\urllib\\request.py\u001b[0m in \u001b[0;36mopen\u001b[1;34m(self, fullurl, data, timeout)\u001b[0m\n\u001b[0;32m    521\u001b[0m         \u001b[1;32mfor\u001b[0m \u001b[0mprocessor\u001b[0m \u001b[1;32min\u001b[0m \u001b[0mself\u001b[0m\u001b[1;33m.\u001b[0m\u001b[0mprocess_response\u001b[0m\u001b[1;33m.\u001b[0m\u001b[0mget\u001b[0m\u001b[1;33m(\u001b[0m\u001b[0mprotocol\u001b[0m\u001b[1;33m,\u001b[0m \u001b[1;33m[\u001b[0m\u001b[1;33m]\u001b[0m\u001b[1;33m)\u001b[0m\u001b[1;33m:\u001b[0m\u001b[1;33m\u001b[0m\u001b[1;33m\u001b[0m\u001b[0m\n\u001b[0;32m    522\u001b[0m             \u001b[0mmeth\u001b[0m \u001b[1;33m=\u001b[0m \u001b[0mgetattr\u001b[0m\u001b[1;33m(\u001b[0m\u001b[0mprocessor\u001b[0m\u001b[1;33m,\u001b[0m \u001b[0mmeth_name\u001b[0m\u001b[1;33m)\u001b[0m\u001b[1;33m\u001b[0m\u001b[1;33m\u001b[0m\u001b[0m\n\u001b[1;32m--> 523\u001b[1;33m             \u001b[0mresponse\u001b[0m \u001b[1;33m=\u001b[0m \u001b[0mmeth\u001b[0m\u001b[1;33m(\u001b[0m\u001b[0mreq\u001b[0m\u001b[1;33m,\u001b[0m \u001b[0mresponse\u001b[0m\u001b[1;33m)\u001b[0m\u001b[1;33m\u001b[0m\u001b[1;33m\u001b[0m\u001b[0m\n\u001b[0m\u001b[0;32m    524\u001b[0m \u001b[1;33m\u001b[0m\u001b[0m\n\u001b[0;32m    525\u001b[0m         \u001b[1;32mreturn\u001b[0m \u001b[0mresponse\u001b[0m\u001b[1;33m\u001b[0m\u001b[1;33m\u001b[0m\u001b[0m\n",
      "\u001b[1;32mc:\\users\\hakiya\\appdata\\local\\programs\\python\\python39\\lib\\urllib\\request.py\u001b[0m in \u001b[0;36mhttp_response\u001b[1;34m(self, request, response)\u001b[0m\n\u001b[0;32m    630\u001b[0m         \u001b[1;31m# request was successfully received, understood, and accepted.\u001b[0m\u001b[1;33m\u001b[0m\u001b[1;33m\u001b[0m\u001b[1;33m\u001b[0m\u001b[0m\n\u001b[0;32m    631\u001b[0m         \u001b[1;32mif\u001b[0m \u001b[1;32mnot\u001b[0m \u001b[1;33m(\u001b[0m\u001b[1;36m200\u001b[0m \u001b[1;33m<=\u001b[0m \u001b[0mcode\u001b[0m \u001b[1;33m<\u001b[0m \u001b[1;36m300\u001b[0m\u001b[1;33m)\u001b[0m\u001b[1;33m:\u001b[0m\u001b[1;33m\u001b[0m\u001b[1;33m\u001b[0m\u001b[0m\n\u001b[1;32m--> 632\u001b[1;33m             response = self.parent.error(\n\u001b[0m\u001b[0;32m    633\u001b[0m                 'http', request, response, code, msg, hdrs)\n\u001b[0;32m    634\u001b[0m \u001b[1;33m\u001b[0m\u001b[0m\n",
      "\u001b[1;32mc:\\users\\hakiya\\appdata\\local\\programs\\python\\python39\\lib\\urllib\\request.py\u001b[0m in \u001b[0;36merror\u001b[1;34m(self, proto, *args)\u001b[0m\n\u001b[0;32m    559\u001b[0m         \u001b[1;32mif\u001b[0m \u001b[0mhttp_err\u001b[0m\u001b[1;33m:\u001b[0m\u001b[1;33m\u001b[0m\u001b[1;33m\u001b[0m\u001b[0m\n\u001b[0;32m    560\u001b[0m             \u001b[0margs\u001b[0m \u001b[1;33m=\u001b[0m \u001b[1;33m(\u001b[0m\u001b[0mdict\u001b[0m\u001b[1;33m,\u001b[0m \u001b[1;34m'default'\u001b[0m\u001b[1;33m,\u001b[0m \u001b[1;34m'http_error_default'\u001b[0m\u001b[1;33m)\u001b[0m \u001b[1;33m+\u001b[0m \u001b[0morig_args\u001b[0m\u001b[1;33m\u001b[0m\u001b[1;33m\u001b[0m\u001b[0m\n\u001b[1;32m--> 561\u001b[1;33m             \u001b[1;32mreturn\u001b[0m \u001b[0mself\u001b[0m\u001b[1;33m.\u001b[0m\u001b[0m_call_chain\u001b[0m\u001b[1;33m(\u001b[0m\u001b[1;33m*\u001b[0m\u001b[0margs\u001b[0m\u001b[1;33m)\u001b[0m\u001b[1;33m\u001b[0m\u001b[1;33m\u001b[0m\u001b[0m\n\u001b[0m\u001b[0;32m    562\u001b[0m \u001b[1;33m\u001b[0m\u001b[0m\n\u001b[0;32m    563\u001b[0m \u001b[1;31m# XXX probably also want an abstract factory that knows when it makes\u001b[0m\u001b[1;33m\u001b[0m\u001b[1;33m\u001b[0m\u001b[1;33m\u001b[0m\u001b[0m\n",
      "\u001b[1;32mc:\\users\\hakiya\\appdata\\local\\programs\\python\\python39\\lib\\urllib\\request.py\u001b[0m in \u001b[0;36m_call_chain\u001b[1;34m(self, chain, kind, meth_name, *args)\u001b[0m\n\u001b[0;32m    492\u001b[0m         \u001b[1;32mfor\u001b[0m \u001b[0mhandler\u001b[0m \u001b[1;32min\u001b[0m \u001b[0mhandlers\u001b[0m\u001b[1;33m:\u001b[0m\u001b[1;33m\u001b[0m\u001b[1;33m\u001b[0m\u001b[0m\n\u001b[0;32m    493\u001b[0m             \u001b[0mfunc\u001b[0m \u001b[1;33m=\u001b[0m \u001b[0mgetattr\u001b[0m\u001b[1;33m(\u001b[0m\u001b[0mhandler\u001b[0m\u001b[1;33m,\u001b[0m \u001b[0mmeth_name\u001b[0m\u001b[1;33m)\u001b[0m\u001b[1;33m\u001b[0m\u001b[1;33m\u001b[0m\u001b[0m\n\u001b[1;32m--> 494\u001b[1;33m             \u001b[0mresult\u001b[0m \u001b[1;33m=\u001b[0m \u001b[0mfunc\u001b[0m\u001b[1;33m(\u001b[0m\u001b[1;33m*\u001b[0m\u001b[0margs\u001b[0m\u001b[1;33m)\u001b[0m\u001b[1;33m\u001b[0m\u001b[1;33m\u001b[0m\u001b[0m\n\u001b[0m\u001b[0;32m    495\u001b[0m             \u001b[1;32mif\u001b[0m \u001b[0mresult\u001b[0m \u001b[1;32mis\u001b[0m \u001b[1;32mnot\u001b[0m \u001b[1;32mNone\u001b[0m\u001b[1;33m:\u001b[0m\u001b[1;33m\u001b[0m\u001b[1;33m\u001b[0m\u001b[0m\n\u001b[0;32m    496\u001b[0m                 \u001b[1;32mreturn\u001b[0m \u001b[0mresult\u001b[0m\u001b[1;33m\u001b[0m\u001b[1;33m\u001b[0m\u001b[0m\n",
      "\u001b[1;32mc:\\users\\hakiya\\appdata\\local\\programs\\python\\python39\\lib\\urllib\\request.py\u001b[0m in \u001b[0;36mhttp_error_default\u001b[1;34m(self, req, fp, code, msg, hdrs)\u001b[0m\n\u001b[0;32m    639\u001b[0m \u001b[1;32mclass\u001b[0m \u001b[0mHTTPDefaultErrorHandler\u001b[0m\u001b[1;33m(\u001b[0m\u001b[0mBaseHandler\u001b[0m\u001b[1;33m)\u001b[0m\u001b[1;33m:\u001b[0m\u001b[1;33m\u001b[0m\u001b[1;33m\u001b[0m\u001b[0m\n\u001b[0;32m    640\u001b[0m     \u001b[1;32mdef\u001b[0m \u001b[0mhttp_error_default\u001b[0m\u001b[1;33m(\u001b[0m\u001b[0mself\u001b[0m\u001b[1;33m,\u001b[0m \u001b[0mreq\u001b[0m\u001b[1;33m,\u001b[0m \u001b[0mfp\u001b[0m\u001b[1;33m,\u001b[0m \u001b[0mcode\u001b[0m\u001b[1;33m,\u001b[0m \u001b[0mmsg\u001b[0m\u001b[1;33m,\u001b[0m \u001b[0mhdrs\u001b[0m\u001b[1;33m)\u001b[0m\u001b[1;33m:\u001b[0m\u001b[1;33m\u001b[0m\u001b[1;33m\u001b[0m\u001b[0m\n\u001b[1;32m--> 641\u001b[1;33m         \u001b[1;32mraise\u001b[0m \u001b[0mHTTPError\u001b[0m\u001b[1;33m(\u001b[0m\u001b[0mreq\u001b[0m\u001b[1;33m.\u001b[0m\u001b[0mfull_url\u001b[0m\u001b[1;33m,\u001b[0m \u001b[0mcode\u001b[0m\u001b[1;33m,\u001b[0m \u001b[0mmsg\u001b[0m\u001b[1;33m,\u001b[0m \u001b[0mhdrs\u001b[0m\u001b[1;33m,\u001b[0m \u001b[0mfp\u001b[0m\u001b[1;33m)\u001b[0m\u001b[1;33m\u001b[0m\u001b[1;33m\u001b[0m\u001b[0m\n\u001b[0m\u001b[0;32m    642\u001b[0m \u001b[1;33m\u001b[0m\u001b[0m\n\u001b[0;32m    643\u001b[0m \u001b[1;32mclass\u001b[0m \u001b[0mHTTPRedirectHandler\u001b[0m\u001b[1;33m(\u001b[0m\u001b[0mBaseHandler\u001b[0m\u001b[1;33m)\u001b[0m\u001b[1;33m:\u001b[0m\u001b[1;33m\u001b[0m\u001b[1;33m\u001b[0m\u001b[0m\n",
      "\u001b[1;31mHTTPError\u001b[0m: HTTP Error 403: Forbidden"
     ]
    }
   ],
   "source": [
    "_url = 'https://camprsv.com/12645/rsv_list/'\n",
    "dummy_user_agent ='Mozilla/5.0 (compatible; MSIE 10.0; Windows NT 6.1; WOW64; Trident/6.0)'\n",
    "dfs = pd.read_html(_url, headers=dummy_user_agent)"
   ]
  },
  {
   "cell_type": "code",
   "execution_count": null,
   "id": "checked-roads",
   "metadata": {},
   "outputs": [],
   "source": [
    "dfs"
   ]
  },
  {
   "cell_type": "code",
   "execution_count": 3,
   "id": "matched-sherman",
   "metadata": {},
   "outputs": [],
   "source": [
    "# 現在年取得\n",
    "dt_now = datetime.datetime.now()\n",
    "year_=str(dt_now.year) +\"年\""
   ]
  },
  {
   "cell_type": "code",
   "execution_count": 4,
   "id": "subtle-strength",
   "metadata": {},
   "outputs": [
    {
     "name": "stdout",
     "output_type": "stream",
     "text": [
      "Pandas(Index='1', _1='ログハウス', _2='○', _3='○', _4='○', _5='残1', _6='○', _7='○', _8='○', _9='○', _10='○', _11='○', _12='×', _13='○', _14='○', _15='○', _16='－', _17='－', _18='－', _19='－', _20='－', _21='－', _22='－', _23='－', _24='－', _25='－', _26='－', _27='－', _28='－', _29='－', _30='－', _31='－', _32='－')\n",
      "Pandas(Index='2', _1='コテージ', _2='○', _3='○', _4='○', _5='残2', _6='○', _7='○', _8='○', _9='○', _10='○', _11='○', _12='○', _13='○', _14='○', _15='○', _16='－', _17='－', _18='－', _19='－', _20='－', _21='－', _22='－', _23='－', _24='－', _25='－', _26='－', _27='－', _28='－', _29='－', _30='－', _31='－', _32='－')\n",
      "Pandas(Index='3', _1='オートサイトA', _2='○', _3='○', _4='○', _5='○', _6='○', _7='○', _8='○', _9='○', _10='○', _11='○', _12='○', _13='○', _14='○', _15='○', _16='－', _17='－', _18='－', _19='－', _20='－', _21='－', _22='－', _23='－', _24='－', _25='－', _26='－', _27='－', _28='－', _29='－', _30='－', _31='－', _32='－')\n",
      "Pandas(Index='4', _1='オートサイトB', _2='○', _3='○', _4='○', _5='○', _6='○', _7='○', _8='○', _9='○', _10='○', _11='○', _12='○', _13='○', _14='○', _15='○', _16='－', _17='－', _18='－', _19='－', _20='－', _21='－', _22='－', _23='－', _24='－', _25='－', _26='－', _27='－', _28='－', _29='－', _30='－', _31='－', _32='－')\n",
      "Pandas(Index='5', _1='フリーサイト', _2='○', _3='○', _4='○', _5='○', _6='○', _7='○', _8='○', _9='○', _10='○', _11='○', _12='○', _13='○', _14='○', _15='○', _16='－', _17='－', _18='－', _19='－', _20='－', _21='－', _22='－', _23='－', _24='－', _25='－', _26='－', _27='－', _28='－', _29='－', _30='－', _31='－', _32='－')\n",
      "Pandas(Index='1', _1='ログハウス', _2='－', _3='－', _4='－', _5='－', _6='－', _7='閉', _8='○', _9='残1', _10='×', _11='○', _12='○', _13='○', _14='○', _15='○', _16='○', _17='×', _18='○', _19='○', _20='○', _21='○', _22='○', _23='○', _24='△', _25='○', _26='○', _27='○', _28='○', _29='○', _30='○', _31='○', _32='○')\n",
      "Pandas(Index='2', _1='コテージ', _2='－', _3='－', _4='－', _5='－', _6='－', _7='－', _8='○', _9='○', _10='○', _11='○', _12='○', _13='○', _14='○', _15='○', _16='○', _17='○', _18='○', _19='○', _20='○', _21='○', _22='○', _23='○', _24='○', _25='○', _26='○', _27='○', _28='○', _29='○', _30='○', _31='○', _32='○')\n",
      "Pandas(Index='3', _1='オートサイトA', _2='－', _3='－', _4='－', _5='－', _6='－', _7='園', _8='○', _9='○', _10='○', _11='○', _12='○', _13='○', _14='○', _15='○', _16='○', _17='○', _18='○', _19='○', _20='○', _21='○', _22='○', _23='○', _24='○', _25='○', _26='○', _27='○', _28='○', _29='○', _30='○', _31='○', _32='○')\n",
      "Pandas(Index='4', _1='オートサイトB', _2='－', _3='－', _4='－', _5='－', _6='－', _7='－', _8='○', _9='○', _10='○', _11='○', _12='○', _13='○', _14='○', _15='○', _16='○', _17='○', _18='○', _19='○', _20='○', _21='○', _22='○', _23='○', _24='○', _25='○', _26='○', _27='○', _28='○', _29='○', _30='○', _31='○', _32='○')\n",
      "Pandas(Index='5', _1='フリーサイト', _2='－', _3='－', _4='－', _5='－', _6='－', _7='中', _8='○', _9='○', _10='○', _11='○', _12='○', _13='○', _14='○', _15='○', _16='○', _17='○', _18='○', _19='○', _20='○', _21='○', _22='○', _23='○', _24='○', _25='○', _26='○', _27='○', _28='○', _29='○', _30='○', _31='○', _32='○')\n",
      "Pandas(Index='1', _1='ログハウス', _2='○', _3='○', _4='○', _5='○', _6='○', _7='残1', _8='○', _9='○', _10='○', _11='○', _12='○', _13='○', _14='残1', _15='○', _16='○', _17='○', _18='○', _19='○', _20='○', _21='○', _22='○', _23='○', _24='○', _25='○', _26='○', _27='○', _28='○', _29='○', _30='○', _31='○', _32='－')\n",
      "Pandas(Index='2', _1='コテージ', _2='○', _3='○', _4='○', _5='○', _6='○', _7='○', _8='○', _9='○', _10='○', _11='○', _12='○', _13='○', _14='○', _15='○', _16='○', _17='○', _18='○', _19='○', _20='○', _21='○', _22='○', _23='○', _24='○', _25='○', _26='○', _27='○', _28='○', _29='○', _30='○', _31='○', _32='－')\n",
      "Pandas(Index='3', _1='オートサイトA', _2='○', _3='○', _4='○', _5='○', _6='○', _7='○', _8='○', _9='○', _10='○', _11='○', _12='○', _13='○', _14='○', _15='○', _16='○', _17='○', _18='○', _19='○', _20='○', _21='○', _22='○', _23='○', _24='○', _25='○', _26='○', _27='○', _28='○', _29='○', _30='○', _31='○', _32='－')\n",
      "Pandas(Index='4', _1='オートサイトB', _2='○', _3='○', _4='○', _5='○', _6='○', _7='○', _8='○', _9='○', _10='○', _11='○', _12='○', _13='○', _14='○', _15='○', _16='○', _17='○', _18='○', _19='○', _20='○', _21='○', _22='○', _23='○', _24='○', _25='○', _26='○', _27='○', _28='○', _29='○', _30='○', _31='○', _32='－')\n",
      "Pandas(Index='5', _1='フリーサイト', _2='○', _3='○', _4='○', _5='○', _6='○', _7='○', _8='○', _9='○', _10='○', _11='○', _12='○', _13='○', _14='○', _15='○', _16='○', _17='○', _18='○', _19='○', _20='○', _21='○', _22='○', _23='○', _24='○', _25='○', _26='○', _27='○', _28='○', _29='○', _30='○', _31='○', _32='－')\n",
      "Pandas(Index='1', _1='ログハウス', _2='○', _3='○', _4='○', _5='○', _6='○', _7='○', _8='○', _9='○', _10='○', _11='○', _12='×', _13='○', _14='○', _15='○', _16='○', _17='○', _18='△', _19='×', _20='○', _21='○', _22='○', _23='○', _24='×', _25='×', _26='×', _27='残1', _28='○', _29='○', _30='○', _31='○', _32='○')\n",
      "Pandas(Index='2', _1='コテージ', _2='○', _3='○', _4='○', _5='○', _6='○', _7='○', _8='○', _9='○', _10='○', _11='○', _12='○', _13='○', _14='○', _15='○', _16='○', _17='○', _18='○', _19='○', _20='○', _21='○', _22='○', _23='○', _24='△', _25='○', _26='○', _27='○', _28='○', _29='○', _30='○', _31='○', _32='○')\n",
      "Pandas(Index='3', _1='オートサイトA', _2='○', _3='○', _4='○', _5='○', _6='○', _7='○', _8='○', _9='○', _10='○', _11='○', _12='○', _13='○', _14='○', _15='○', _16='○', _17='○', _18='○', _19='○', _20='○', _21='○', _22='○', _23='○', _24='○', _25='○', _26='○', _27='○', _28='○', _29='○', _30='○', _31='○', _32='○')\n",
      "Pandas(Index='4', _1='オートサイトB', _2='○', _3='○', _4='○', _5='○', _6='○', _7='○', _8='○', _9='○', _10='○', _11='○', _12='○', _13='○', _14='○', _15='○', _16='○', _17='○', _18='○', _19='○', _20='○', _21='○', _22='○', _23='○', _24='○', _25='○', _26='○', _27='○', _28='○', _29='○', _30='○', _31='○', _32='○')\n",
      "Pandas(Index='5', _1='フリーサイト', _2='○', _3='○', _4='○', _5='○', _6='○', _7='○', _8='○', _9='○', _10='○', _11='○', _12='○', _13='○', _14='○', _15='○', _16='○', _17='○', _18='○', _19='○', _20='○', _21='○', _22='○', _23='○', _24='○', _25='○', _26='×', _27='○', _28='○', _29='○', _30='○', _31='○', _32='○')\n",
      "Pandas(Index='1', _1='ログハウス', _2='×', _3='○', _4='○', _5='○', _6='○', _7='○', _8='○', _9='×', _10='×', _11='△', _12='○', _13='×', _14='×', _15='×', _16='×', _17='○', _18='○', _19='○', _20='○', _21='○', _22='○', _23='×', _24='○', _25='○', _26='○', _27='○', _28='○', _29='○', _30='×', _31='○', _32='○')\n",
      "Pandas(Index='2', _1='コテージ', _2='△', _3='○', _4='○', _5='○', _6='○', _7='○', _8='○', _9='△', _10='△', _11='△', _12='○', _13='△', _14='×', _15='×', _16='残1', _17='○', _18='○', _19='○', _20='○', _21='○', _22='○', _23='○', _24='○', _25='○', _26='○', _27='○', _28='○', _29='○', _30='○', _31='○', _32='○')\n",
      "Pandas(Index='3', _1='オートサイトA', _2='○', _3='○', _4='○', _5='○', _6='○', _7='○', _8='○', _9='○', _10='○', _11='○', _12='○', _13='○', _14='○', _15='○', _16='○', _17='○', _18='○', _19='○', _20='○', _21='○', _22='○', _23='○', _24='○', _25='○', _26='○', _27='○', _28='○', _29='○', _30='○', _31='○', _32='○')\n",
      "Pandas(Index='4', _1='オートサイトB', _2='○', _3='○', _4='○', _5='○', _6='○', _7='○', _8='○', _9='○', _10='○', _11='○', _12='○', _13='○', _14='○', _15='○', _16='○', _17='○', _18='○', _19='○', _20='○', _21='○', _22='○', _23='○', _24='○', _25='○', _26='○', _27='○', _28='○', _29='○', _30='○', _31='○', _32='○')\n",
      "Pandas(Index='5', _1='フリーサイト', _2='○', _3='○', _4='○', _5='○', _6='○', _7='○', _8='○', _9='○', _10='○', _11='○', _12='○', _13='○', _14='○', _15='○', _16='○', _17='○', _18='○', _19='○', _20='○', _21='○', _22='○', _23='○', _24='○', _25='○', _26='○', _27='○', _28='○', _29='○', _30='○', _31='○', _32='○')\n",
      "Pandas(Index='1', _1='ログハウス', _2='○', _3='○', _4='○', _5='○', _6='○', _7='○', _8='○', _9='○', _10='○', _11='○', _12='○', _13='×', _14='○', _15='○', _16='○', _17='○', _18='○', _19='○', _20='×', _21='×', _22='×', _23='○', _24='○', _25='○', _26='○', _27='×', _28='○', _29='○', _30='○', _31='○', _32='－')\n",
      "Pandas(Index='2', _1='コテージ', _2='○', _3='○', _4='○', _5='○', _6='○', _7='○', _8='○', _9='○', _10='○', _11='○', _12='○', _13='○', _14='○', _15='○', _16='○', _17='○', _18='○', _19='○', _20='○', _21='○', _22='△', _23='○', _24='○', _25='○', _26='○', _27='○', _28='○', _29='○', _30='○', _31='○', _32='－')\n",
      "Pandas(Index='3', _1='オートサイトA', _2='○', _3='○', _4='○', _5='○', _6='○', _7='○', _8='○', _9='○', _10='○', _11='○', _12='○', _13='○', _14='○', _15='○', _16='○', _17='○', _18='○', _19='○', _20='○', _21='○', _22='○', _23='○', _24='○', _25='○', _26='○', _27='○', _28='○', _29='○', _30='○', _31='○', _32='－')\n",
      "Pandas(Index='4', _1='オートサイトB', _2='○', _3='○', _4='○', _5='○', _6='○', _7='○', _8='○', _9='○', _10='○', _11='○', _12='○', _13='○', _14='○', _15='○', _16='○', _17='○', _18='○', _19='○', _20='○', _21='○', _22='○', _23='○', _24='○', _25='○', _26='○', _27='○', _28='○', _29='○', _30='○', _31='○', _32='－')\n",
      "Pandas(Index='5', _1='フリーサイト', _2='○', _3='○', _4='○', _5='○', _6='○', _7='○', _8='○', _9='○', _10='○', _11='○', _12='○', _13='○', _14='○', _15='○', _16='○', _17='○', _18='○', _19='○', _20='○', _21='○', _22='○', _23='○', _24='○', _25='○', _26='○', _27='○', _28='○', _29='○', _30='○', _31='○', _32='－')\n",
      "Pandas(Index='1', _1='ログハウス', _2='○', _3='○', _4='○', _5='○', _6='○', _7='○', _8='○', _9='○', _10='○', _11='○', _12='○', _13='○', _14='○', _15='○', _16='○', _17='○', _18='○', _19='○', _20='○', _21='○', _22='○', _23='○', _24='○', _25='○', _26='○', _27='○', _28='○', _29='○', _30='○', _31='○', _32='○')\n",
      "Pandas(Index='2', _1='コテージ', _2='○', _3='○', _4='○', _5='○', _6='○', _7='○', _8='○', _9='○', _10='○', _11='○', _12='○', _13='○', _14='○', _15='○', _16='○', _17='○', _18='○', _19='○', _20='○', _21='○', _22='○', _23='○', _24='○', _25='○', _26='○', _27='○', _28='○', _29='○', _30='○', _31='○', _32='○')\n",
      "Pandas(Index='3', _1='オートサイトA', _2='○', _3='○', _4='○', _5='○', _6='○', _7='○', _8='○', _9='○', _10='○', _11='○', _12='○', _13='○', _14='○', _15='○', _16='○', _17='○', _18='○', _19='○', _20='○', _21='○', _22='○', _23='○', _24='○', _25='○', _26='○', _27='○', _28='○', _29='○', _30='○', _31='○', _32='○')\n",
      "Pandas(Index='4', _1='オートサイトB', _2='○', _3='○', _4='○', _5='○', _6='○', _7='○', _8='○', _9='○', _10='○', _11='○', _12='○', _13='○', _14='○', _15='○', _16='○', _17='○', _18='○', _19='○', _20='○', _21='○', _22='○', _23='○', _24='○', _25='○', _26='○', _27='○', _28='○', _29='○', _30='○', _31='○', _32='○')\n",
      "Pandas(Index='5', _1='フリーサイト', _2='○', _3='○', _4='○', _5='○', _6='○', _7='○', _8='○', _9='○', _10='○', _11='○', _12='○', _13='○', _14='○', _15='○', _16='○', _17='○', _18='○', _19='○', _20='○', _21='○', _22='○', _23='○', _24='○', _25='○', _26='○', _27='○', _28='○', _29='○', _30='○', _31='○', _32='○')\n"
     ]
    }
   ],
   "source": [
    "# すべての月分ループ処理\n",
    "i=0\n",
    "for dfs_ in dfs[0:]:\n",
    "    i = i+1\n",
    "    \n",
    "    #　何月分の予約かを取得\n",
    "    str_ = dfs_.iat[0, 0]\n",
    "    month = str(re.findall('況(.*) ',str_))\n",
    "    month = month[2:-2] \n",
    "    y_m = str(year_)+month\n",
    "\n",
    "    # 不要な行を削除\n",
    "    dfs_=dfs_.drop(index=dfs_.index[[0]])\n",
    "    dfs_=dfs_.drop(index=dfs_.index[[0]])\n",
    "    dfs_=dfs_.drop(index=dfs_.index[[5]])\n",
    "    \n",
    "    # NaNをーに変換\n",
    "    dfs_=dfs_.fillna(\"－\")\n",
    "    \n",
    "    # 行Key2～6を別データフレームワークへ代入\n",
    "    dfs_1 = dfs_.iloc[[0,1,2,3,4]]\n",
    "    \n",
    "    # 行Key8～12を別データフレームワークへ代入\n",
    "    dfs_2 = dfs_.iloc[[5,6,7,8,9]]\n",
    "    \n",
    "    # dfs_1とdfs_2のインデックスを合わせる\n",
    "    dfs_1.index=['1', '2', '3', '4', '5']\n",
    "    dfs_2.index=['1', '2', '3', '4', '5']\n",
    "    \n",
    "    # dfs_2の施設名列を削除する\n",
    "    dfs_2=dfs_2.drop(0, axis=1)\n",
    "    \n",
    "    # dfs_1とdfs_2を横結合\n",
    "    dfs_k =pd.concat([dfs_1, dfs_2], axis=1)\n",
    "    \n",
    "    # columnsを整える\n",
    "    dfs_k.columns = [ y_m , 1, 2, 3, 4, 5, 6, 7, 8, 9, 10, 11, 12, 13, 14, 15, 16,17,18,19,20,21,22,23,24,25,26,27,28,29,30,31,32]\n",
    "                         \n",
    "    # 32行目を削除\n",
    "    dfs_k=dfs_k.drop(32, axis=1)\n",
    "    \n",
    "    # DBに書き込みする処理を追加\n",
    "    #print(dfs_)\n",
    "    #print(dfs_k)\n",
    "    #dfs_k.to_html('sampl' + str(i) + '.html')\n",
    "    for row in dfs_k.itertuples():\n",
    "        print(row)\n",
    "        #for i in range(1,33):\n",
    "         #   print(row[i])\n",
    "    "
   ]
  },
  {
   "cell_type": "code",
   "execution_count": 22,
   "id": "capital-syria",
   "metadata": {},
   "outputs": [
    {
     "name": "stdout",
     "output_type": "stream",
     "text": [
      "フリーサイト\n",
      "○\n",
      "○\n",
      "○\n",
      "○\n",
      "○\n",
      "○\n",
      "○\n",
      "○\n",
      "○\n",
      "○\n",
      "○\n",
      "○\n",
      "○\n",
      "○\n",
      "○\n",
      "○\n",
      "○\n",
      "○\n",
      "○\n",
      "○\n",
      "○\n",
      "○\n",
      "○\n",
      "○\n",
      "○\n",
      "○\n",
      "○\n",
      "○\n",
      "○\n",
      "○\n",
      "○\n"
     ]
    }
   ],
   "source": [
    "for i in range(1,33):\n",
    "    print(row[i])"
   ]
  },
  {
   "cell_type": "code",
   "execution_count": 27,
   "id": "acute-parking",
   "metadata": {},
   "outputs": [
    {
     "data": {
      "text/plain": [
       "'フリーサイト'"
      ]
     },
     "execution_count": 27,
     "metadata": {},
     "output_type": "execute_result"
    }
   ],
   "source": [
    "row[1]"
   ]
  },
  {
   "cell_type": "code",
   "execution_count": 30,
   "id": "hourly-interface",
   "metadata": {},
   "outputs": [],
   "source": [
    "nengetu = dfs_k.columns[0]"
   ]
  },
  {
   "cell_type": "code",
   "execution_count": 31,
   "id": "happy-closing",
   "metadata": {},
   "outputs": [
    {
     "name": "stdout",
     "output_type": "stream",
     "text": [
      "2021年10月\n"
     ]
    }
   ],
   "source": [
    "print(nengetu)"
   ]
  },
  {
   "cell_type": "code",
   "execution_count": 34,
   "id": "genuine-charger",
   "metadata": {},
   "outputs": [
    {
     "name": "stdout",
     "output_type": "stream",
     "text": [
      "2021\n"
     ]
    }
   ],
   "source": [
    "nen = nengetu[0:4]\n",
    "print(nen)"
   ]
  },
  {
   "cell_type": "code",
   "execution_count": 54,
   "id": "harmful-shannon",
   "metadata": {},
   "outputs": [],
   "source": [
    "getu = re.findall('年(.*)月', nengetu)"
   ]
  },
  {
   "cell_type": "code",
   "execution_count": 56,
   "id": "christian-woman",
   "metadata": {},
   "outputs": [
    {
     "name": "stdout",
     "output_type": "stream",
     "text": [
      "10\n"
     ]
    }
   ],
   "source": [
    "print(getu[0])"
   ]
  },
  {
   "cell_type": "code",
   "execution_count": 46,
   "id": "studied-debut",
   "metadata": {},
   "outputs": [
    {
     "ename": "TypeError",
     "evalue": "int() argument must be a string, a bytes-like object or a number, not 'list'",
     "output_type": "error",
     "traceback": [
      "\u001b[1;31m---------------------------------------------------------------------------\u001b[0m",
      "\u001b[1;31mTypeError\u001b[0m                                 Traceback (most recent call last)",
      "\u001b[1;32m<ipython-input-46-9679eae5b858>\u001b[0m in \u001b[0;36m<module>\u001b[1;34m\u001b[0m\n\u001b[1;32m----> 1\u001b[1;33m \u001b[0mgetu\u001b[0m \u001b[1;33m=\u001b[0m \u001b[0mint\u001b[0m\u001b[1;33m(\u001b[0m\u001b[0mgetu\u001b[0m\u001b[1;33m)\u001b[0m\u001b[1;33m\u001b[0m\u001b[1;33m\u001b[0m\u001b[0m\n\u001b[0m",
      "\u001b[1;31mTypeError\u001b[0m: int() argument must be a string, a bytes-like object or a number, not 'list'"
     ]
    }
   ],
   "source": [
    "getu = int(getu)"
   ]
  },
  {
   "cell_type": "code",
   "execution_count": null,
   "id": "impaired-pharmacy",
   "metadata": {},
   "outputs": [],
   "source": []
  }
 ],
 "metadata": {
  "kernelspec": {
   "display_name": "Python 3",
   "language": "python",
   "name": "python3"
  },
  "language_info": {
   "codemirror_mode": {
    "name": "ipython",
    "version": 3
   },
   "file_extension": ".py",
   "mimetype": "text/x-python",
   "name": "python",
   "nbconvert_exporter": "python",
   "pygments_lexer": "ipython3",
   "version": "3.9.0"
  }
 },
 "nbformat": 4,
 "nbformat_minor": 5
}
