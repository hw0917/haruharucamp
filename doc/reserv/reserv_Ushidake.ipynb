{
 "cells": [
  {
   "cell_type": "markdown",
   "id": "amateur-harvest",
   "metadata": {},
   "source": [
    "# 牛だけキャンプ場きらら予約状況取得"
   ]
  },
  {
   "cell_type": "code",
   "execution_count": 1,
   "id": "responsible-albany",
   "metadata": {},
   "outputs": [],
   "source": [
    "import pandas as pd"
   ]
  },
  {
   "cell_type": "code",
   "execution_count": 2,
   "id": "liked-photography",
   "metadata": {},
   "outputs": [],
   "source": [
    "_url = 'https://ushidake.com/cgi-bin/yoyaku005/user.cgi'\n",
    "dfs = pd.read_html(_url,header=0)"
   ]
  },
  {
   "cell_type": "code",
   "execution_count": 4,
   "id": "solid-standing",
   "metadata": {},
   "outputs": [
    {
     "name": "stdout",
     "output_type": "stream",
     "text": [
      "      2021年 3月  1  2  3  4  5  6  7  8  9  ... 23 24 25 26 27 28 29 30 31  \\\n",
      "1  バンガロー （全5棟）  ×  ×  ×  ×  ×  ×  ×  ×  ×  ...  ×  ×  ×  ×  ×  ×  ×  ×  ×   \n",
      "2  サイト （全26ヶ所）  ×  ×  ×  ×  ×  ×  ×  ×  ×  ...  ×  ×  ×  ×  ×  ×  ×  ×  ×   \n",
      "\n",
      "  Unnamed: 32  \n",
      "1         NaN  \n",
      "2         NaN  \n",
      "\n",
      "[2 rows x 33 columns]\n",
      "      2021年 4月  1  2  3  4  5  6  7  8  9  ... 23 24 25 26 27 28 29 30  \\\n",
      "1  バンガロー （全5棟）  ×  ×  ×  ×  ×  ×  ×  ×  ×  ...  ×  ×  ×  ×  ×  ×  ×  ×   \n",
      "2  サイト （全26ヶ所）  ×  ×  ×  ×  ×  ×  ×  ×  ×  ...  ×  ×  ×  ×  ×  ×  ×  ×   \n",
      "\n",
      "  Unnamed: 31 Unnamed: 32  \n",
      "1         NaN         NaN  \n",
      "2         NaN         NaN  \n",
      "\n",
      "[2 rows x 33 columns]\n",
      "      2021年 5月  1  2  3  4  5  6  7  8  9  ... 23 24 25 26 27 28 29 30 31  \\\n",
      "1  バンガロー （全5棟）  ×  ×  ×  ×  ×  ×  ×  ×  ×  ...  ×  ×  休  ×  ×  ×  ×  ×  ×   \n",
      "2  サイト （全26ヶ所）  ×  ×  ×  ×  ×  ×  ×  ×  ×  ...  ×  ×  休  ×  ×  ×  ×  ×  ×   \n",
      "\n",
      "  Unnamed: 32  \n",
      "1         NaN  \n",
      "2         NaN  \n",
      "\n",
      "[2 rows x 33 columns]\n"
     ]
    }
   ],
   "source": [
    "# すべての月分ループ処理\n",
    "i = 0\n",
    "for i in range(2,7,2):\n",
    "    dfs_=dfs[i]\n",
    "    #1行目の情報は不要なため削除\n",
    "    dfs_=dfs_.drop(index=dfs_.index[[0]])\n",
    "    # NaNの行を削除\n",
    "    #dfs_=dfs_.dropna(how='all', axis=1)\n",
    "    # DBに書き込みする処理を追加\n",
    "    print(dfs_)"
   ]
  },
  {
   "cell_type": "code",
   "execution_count": null,
   "id": "forced-finish",
   "metadata": {},
   "outputs": [],
   "source": []
  },
  {
   "cell_type": "code",
   "execution_count": null,
   "id": "useful-talent",
   "metadata": {},
   "outputs": [],
   "source": []
  },
  {
   "cell_type": "code",
   "execution_count": null,
   "id": "excellent-duplicate",
   "metadata": {},
   "outputs": [],
   "source": []
  }
 ],
 "metadata": {
  "kernelspec": {
   "display_name": "Python 3",
   "language": "python",
   "name": "python3"
  },
  "language_info": {
   "codemirror_mode": {
    "name": "ipython",
    "version": 3
   },
   "file_extension": ".py",
   "mimetype": "text/x-python",
   "name": "python",
   "nbconvert_exporter": "python",
   "pygments_lexer": "ipython3",
   "version": "3.9.0"
  }
 },
 "nbformat": 4,
 "nbformat_minor": 5
}
